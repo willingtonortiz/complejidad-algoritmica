{
 "cells": [
  {
   "cell_type": "code",
   "execution_count": 24,
   "metadata": {},
   "outputs": [],
   "source": [
    "laberinto = [\n",
    "    [1, 1, 0, 0, 0, 0, 0, 0, 0, 0],\n",
    "    [0, 1, 0, 0, 0, 0, 0, 0, 0, 0],\n",
    "    [0, 1, 0, 0, 0, 0, 0, 0, 0, 0],\n",
    "    [0, 1, 0, 0, 0, 0, 0, 0, 0, 0],\n",
    "    [0, 1, 1, 1, 1, 0, 0, 0, 0, 0],\n",
    "    [0, 0, 0, 0, 1, 0, 0, 0, 0, 0],\n",
    "    [0, 0, 0, 0, 1, 0, 0, 0, 0, 0],\n",
    "    [0, 0, 0, 0, 1, 1, 0, 0, 0, 0],\n",
    "    [0, 0, 0, 0, 0, 1, 0, 0, 0, 0],\n",
    "    [0, 0, 0, 0, 0, 1, 1, 1, 1, 0],\n",
    "    [0, 0, 0, 0, 0, 0, 0, 0, 1, 1],\n",
    "]"
   ]
  },
  {
   "cell_type": "code",
   "execution_count": 21,
   "metadata": {},
   "outputs": [],
   "source": [
    "def generate_graph(laberinto):\n",
    "    height = len(laberinto)\n",
    "    width = len(laberinto[0])\n",
    "    size = width * height\n",
    "    \n",
    "    graph = [[] for _ in range(size)]\n",
    "    \n",
    "    for i, row in enumerate(laberinto):\n",
    "        for j, cell in enumerate(row):\n",
    "            if cell == 1:\n",
    "                if i - 1 >= 0 and laberinto[i - 1][j] == 1:\n",
    "                    graph[width * i + j].append(width * (i - 1) + j)\n",
    "                    \n",
    "                if i + 1 < height and laberinto[i + 1][j] == 1:\n",
    "                    graph[width * i + j].append(width * (i + 1) + j)\n",
    "                    \n",
    "                if j - 1 >= 0 and laberinto[i][j - 1] == 1:\n",
    "                    graph[width * i + j].append(width * i + j - 1)\n",
    "                \n",
    "                if j + 1 < width and laberinto[i][j + 1] == 1:\n",
    "                    graph[width * i + j].append(width * i + j + 1)\n",
    "    return graph"
   ]
  },
  {
   "cell_type": "code",
   "execution_count": 30,
   "metadata": {},
   "outputs": [],
   "source": [
    "def print_graph(graph):\n",
    "    for i, row in enumerate(graph):\n",
    "        print(i, \":\", row)"
   ]
  },
  {
   "cell_type": "code",
   "execution_count": 60,
   "metadata": {},
   "outputs": [],
   "source": [
    "def dfs(graph, start, end):\n",
    "    size = len(graph)\n",
    "    path = [None] * size\n",
    "    visited = [False] * size\n",
    "    stack = []\n",
    "    \n",
    "    def dfs_r(s, e):\n",
    "        visited[s] = True\n",
    "        \n",
    "        if s == e:\n",
    "            return True\n",
    "        \n",
    "        for neig in graph[s]:\n",
    "            if not visited[neig]:\n",
    "                path[neig] = s\n",
    "                if dfs_r(neig, e):\n",
    "#                     print(neig, end = ' => ')\n",
    "                    stack.append(neig)\n",
    "                    return True\n",
    "        return False\n",
    "    \n",
    "    if dfs_r(start, end):\n",
    "        stack.append(start)\n",
    "        \n",
    "    for i in reversed(stack):\n",
    "        print(i, \"=>\", end = ' ')\n",
    "#     print(visited)\n",
    "#     print(path)"
   ]
  },
  {
   "cell_type": "code",
   "execution_count": 77,
   "metadata": {},
   "outputs": [],
   "source": [
    "def bfs(graph, start, end):\n",
    "    size = len(graph)\n",
    "    visited = [False] * size\n",
    "    path = [None] * size\n",
    "    \n",
    "    queue = [start]\n",
    "    \n",
    "    while len(queue) > 0:\n",
    "        ver = queue.pop(0)\n",
    "        if not visited[ver]:\n",
    "            visited[ver] = True\n",
    "            \n",
    "            if ver == end:\n",
    "                break\n",
    "            \n",
    "            for neig in graph[ver]:\n",
    "                if not visited[neig]:\n",
    "                    path[neig] = ver\n",
    "                    queue.append(neig)\n",
    "    \n",
    "#     Si encontró el nodo\n",
    "    if visited[end]:\n",
    "        stack = [end]\n",
    "        parent = end\n",
    "        \n",
    "        while parent != start:\n",
    "            parent = path[parent]\n",
    "            stack.append(parent)\n",
    "            \n",
    "        for val in reversed(stack):\n",
    "            print(val, \"=>\", end = ' ')"
   ]
  },
  {
   "cell_type": "code",
   "execution_count": 81,
   "metadata": {},
   "outputs": [
    {
     "name": "stdout",
     "output_type": "stream",
     "text": [
      "0 => 1 => 11 => 21 => 31 => 41 => 42 => 43 => 44 => 54 => 64 => 74 => 75 => 85 => 95 => 96 => 97 => 98 => 108 => 109 => \n",
      "0 => 1 => 11 => 21 => 31 => 41 => 42 => 43 => 44 => 54 => 64 => 74 => 75 => 85 => 95 => 96 => 97 => 98 => 108 => 109 => "
     ]
    }
   ],
   "source": [
    "graph = generate_graph(laberinto)\n",
    "dfs(graph, 0, 109)\n",
    "print()\n",
    "bfs(graph, 0, 109)\n",
    "# print_graph(graph)"
   ]
  }
 ],
 "metadata": {
  "kernelspec": {
   "display_name": "Python 3",
   "language": "python",
   "name": "python3"
  },
  "language_info": {
   "codemirror_mode": {
    "name": "ipython",
    "version": 3
   },
   "file_extension": ".py",
   "mimetype": "text/x-python",
   "name": "python",
   "nbconvert_exporter": "python",
   "pygments_lexer": "ipython3",
   "version": "3.7.4"
  }
 },
 "nbformat": 4,
 "nbformat_minor": 4
}
