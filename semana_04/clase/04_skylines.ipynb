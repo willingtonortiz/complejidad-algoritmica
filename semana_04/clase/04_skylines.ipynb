{
 "cells": [
  {
   "cell_type": "code",
   "execution_count": 1,
   "metadata": {},
   "outputs": [],
   "source": [
    "def merge(contour1, contour2):\n",
    "    n1 = len(contour1)\n",
    "    n2 = len(contour2)\n",
    "    \n",
    "    h1 = 0\n",
    "    h2 = 0\n",
    "    i = 0\n",
    "    j = 0\n",
    "    \n",
    "    res = []\n",
    "    def append(x, y):\n",
    "        n = len(res)\n",
    "        if n > 0 and res[-1][1] == y:\n",
    "            return\n",
    "        if n > 0 and res[-1][0] == x:\n",
    "            res[-1] = (res[-1][0], max(res[-1][1], y))\n",
    "            return\n",
    "        res.append((x, y))\n",
    "\n",
    "    while i < n1 and j < n2:\n",
    "        if contour1[i][0] < contour2[j][0]:\n",
    "            x1 = contour1[i][0]\n",
    "            h1 = contour1[i][1]\n",
    "            maxh = max(h1, h2)\n",
    "            append(x1, maxh)\n",
    "            i += 1\n",
    "        else:\n",
    "            x2 = contour2[j][0]\n",
    "            h2 = contour2[j][1]\n",
    "            maxh = max(h1, h2)\n",
    "            append(x2, maxh)\n",
    "            j += 1\n",
    "            \n",
    "    for k in range(i, n1):\n",
    "        x, y = contour1[k]\n",
    "        append(x, y)\n",
    "    for k in range(j, n2):\n",
    "        x, y = contour2[k]\n",
    "        append(x, y)\n",
    "        \n",
    "    return res"
   ]
  },
  {
   "cell_type": "code",
   "execution_count": 2,
   "metadata": {},
   "outputs": [],
   "source": [
    "def skyline(buildings, i, f):\n",
    "    if i == f:\n",
    "        g, h, d = buildings[i]\n",
    "        return [(g, h), (d, 0)]\n",
    "    else:\n",
    "        m = (i + f) // 2\n",
    "        return merge(skyline(buildings, i, m), skyline(buildings, m + 1, f))"
   ]
  },
  {
   "cell_type": "code",
   "execution_count": 3,
   "metadata": {},
   "outputs": [],
   "source": [
    "buildings = [(3, 13, 9), (1, 11, 5), (19, 18, 22), (3, 6, 7), (16, 3, 25), (12, 7, 16)]\n",
    "path = skyline(buildings, 0, len(buildings)-1)"
   ]
  },
  {
   "cell_type": "code",
   "execution_count": 4,
   "metadata": {},
   "outputs": [
    {
     "name": "stdout",
     "output_type": "stream",
     "text": [
      "[(1, 11), (3, 13), (9, 0), (12, 7), (16, 3), (19, 18), (22, 3), (25, 0)]\n",
      "[(0, 0), (1, 0), (1, 11), (3, 11), (3, 13), (9, 13), (9, 0), (12, 0), (12, 7), (16, 7), (16, 3), (19, 3), (19, 18), (22, 18), (22, 3), (25, 3), (25, 0)]\n"
     ]
    }
   ],
   "source": [
    "verts = [(0, 0)]\n",
    "for i in range(len(path)):\n",
    "    verts.append((path[i][0], verts[-1][1]))\n",
    "    verts.append(path[i])\n",
    "print(path)\n",
    "print(verts)"
   ]
  },
  {
   "cell_type": "code",
   "execution_count": 5,
   "metadata": {},
   "outputs": [],
   "source": [
    "import matplotlib.pyplot as plt\n",
    "from matplotlib.path import Path\n",
    "import matplotlib.patches as patches"
   ]
  },
  {
   "cell_type": "code",
   "execution_count": 6,
   "metadata": {},
   "outputs": [
    {
     "data": {
      "image/png": "[encoded data removed]",
      "text/plain": [
       "<Figure size 432x288 with 1 Axes>"
      ]
     },
     "metadata": {
      "needs_background": "light"
     },
     "output_type": "display_data"
    }
   ],
   "source": [
    "n = len(verts)\n",
    "codes = [Path.LINETO]*n\n",
    "codes[ 0] = Path.MOVETO\n",
    "#codes[-1] = Path.CLOSEPOLY\n",
    "\n",
    "path = Path(verts, codes)\n",
    "\n",
    "fig = plt.figure()\n",
    "ax = fig.add_subplot(111)\n",
    "patch = patches.PathPatch(path, facecolor='orange', lw=1)\n",
    "ax.add_patch(patch)\n",
    "ax.set_xlim(0,26)\n",
    "ax.set_ylim(0,20)\n",
    "plt.show()"
   ]
  },
  {
   "cell_type": "code",
   "execution_count": null,
   "metadata": {},
   "outputs": [],
   "source": []
  }
 ],
 "metadata": {
  "kernelspec": {
   "display_name": "Python 3",
   "language": "python",
   "name": "python3"
  },
  "language_info": {
   "codemirror_mode": {
    "name": "ipython",
    "version": 3
   },
   "file_extension": ".py",
   "mimetype": "text/x-python",
   "name": "python",
   "nbconvert_exporter": "python",
   "pygments_lexer": "ipython3",
   "version": "3.7.4"
  }
 },
 "nbformat": 4,
 "nbformat_minor": 4
}
