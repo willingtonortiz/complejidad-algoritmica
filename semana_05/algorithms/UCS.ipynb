{
 "cells": [
  {
   "cell_type": "code",
   "execution_count": 10,
   "metadata": {},
   "outputs": [],
   "source": [
    "import math\n",
    "from queue import PriorityQueue"
   ]
  },
  {
   "cell_type": "code",
   "execution_count": 22,
   "metadata": {},
   "outputs": [],
   "source": [
    "def UCS(graph, start, end):\n",
    "    size = len(graph)\n",
    "    visited = [False] * size\n",
    "    path = [None] * size\n",
    "    weight = [math.inf] * size\n",
    "    \n",
    "    queue = PriorityQueue()\n",
    "    \n",
    "    queue.put((0, start))\n",
    "    weight[start] = 0\n",
    "    \n",
    "    while not queue.empty():\n",
    "        \n",
    "        weig, vert = queue.get()\n",
    "        \n",
    "        if visited[vert]: continue\n",
    "        visited[vert] = True\n",
    "        \n",
    "        if vert == end:\n",
    "            break\n",
    "        \n",
    "        for neig, wneig in graph[vert]:\n",
    "            if not visited[neig]:\n",
    "                length = weig + wneig\n",
    "                \n",
    "                if length < weight[neig]:\n",
    "                    weight[neig] = length\n",
    "                    path[neig] = vert\n",
    "                    queue.put((length, neig))\n",
    "    \n",
    "    return path, weight"
   ]
  },
  {
   "cell_type": "code",
   "execution_count": 38,
   "metadata": {},
   "outputs": [],
   "source": [
    "def print_path(path, last):\n",
    "    \n",
    "    def print_path_r(vert):\n",
    "        if path[vert] == None:\n",
    "            print(vert)\n",
    "            return\n",
    "        print_path_r(path[vert])\n",
    "        print(vert)\n",
    "    print_path_r(last)"
   ]
  },
  {
   "cell_type": "code",
   "execution_count": 39,
   "metadata": {},
   "outputs": [
    {
     "name": "stdout",
     "output_type": "stream",
     "text": [
      "10\n",
      "[4, 4, 4, 1, None] [1, 5, 15, 10, 0]\n",
      "4\n",
      "1\n",
      "3\n"
     ]
    }
   ],
   "source": [
    "graph = [[(3, 10), (4, 1)],\n",
    "         [(3, 5), (4, 5)],\n",
    "         [(3, 4), (4, 15)],\n",
    "         [(0, 10), (1, 5), (2, 4)],\n",
    "         [(0, 1), (1, 5), (2, 15)]]\n",
    "\n",
    "path, weight = UCS(graph, 4, 3)\n",
    "print(weight[3])\n",
    "print(path, weight)\n",
    "print_path(path, 3)"
   ]
  }
 ],
 "metadata": {
  "kernelspec": {
   "display_name": "Python 3",
   "language": "python",
   "name": "python3"
  },
  "language_info": {
   "codemirror_mode": {
    "name": "ipython",
    "version": 3
   },
   "file_extension": ".py",
   "mimetype": "text/x-python",
   "name": "python",
   "nbconvert_exporter": "python",
   "pygments_lexer": "ipython3",
   "version": "3.7.4"
  }
 },
 "nbformat": 4,
 "nbformat_minor": 4
}
