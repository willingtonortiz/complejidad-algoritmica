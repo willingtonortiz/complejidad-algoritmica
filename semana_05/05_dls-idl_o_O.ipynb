{
 "cells": [
  {
   "cell_type": "markdown",
   "metadata": {},
   "source": [
    "# DLS Depth Limited Search"
   ]
  },
  {
   "cell_type": "code",
   "execution_count": null,
   "metadata": {},
   "outputs": [],
   "source": [
    "def dls(G, s, t, limit): # find route from source to target\n",
    "    n = len(G)\n",
    "    path = [None]*n\n",
    "    visited = [False]*n\n",
    "    numVisited = [0]\n",
    "    \n",
    "    def recdfs(G, u, limit):\n",
    "        if limit > 0 and not visited[u]:\n",
    "            visited[u] = True\n",
    "            numVisited[0] += 1\n",
    "            if numVisited[0] == n:\n",
    "                return\n",
    "            if u == t: return\n",
    "            for v in G[u]:\n",
    "                if not visited[v]:\n",
    "                    path[v] = u\n",
    "                    recdfs(G, v, limit - 1)\n",
    "                    \n",
    "    recdfs(G, s, limit)\n",
    "    \n",
    "    return path, visted[t], numVisited[0]"
   ]
  },
  {
   "cell_type": "markdown",
   "metadata": {},
   "source": [
    "# IDS Iterative Depth Search"
   ]
  },
  {
   "cell_type": "code",
   "execution_count": null,
   "metadata": {},
   "outputs": [],
   "source": [
    "def ids(G, s, t):\n",
    "    limit = 0\n",
    "    n = len(G)\n",
    "    while True:\n",
    "        path, found, numVisited = dls(G, s, t, limit)\n",
    "        if found:\n",
    "            return path\n",
    "        elif numVisited == n:\n",
    "            return None\n",
    "        limit += 1"
   ]
  }
 ],
 "metadata": {
  "kernelspec": {
   "display_name": "Python 3",
   "language": "python",
   "name": "python3"
  },
  "language_info": {
   "codemirror_mode": {
    "name": "ipython",
    "version": 3
   },
   "file_extension": ".py",
   "mimetype": "text/x-python",
   "name": "python",
   "nbconvert_exporter": "python",
   "pygments_lexer": "ipython3",
   "version": "3.7.1"
  }
 },
 "nbformat": 4,
 "nbformat_minor": 2
}
