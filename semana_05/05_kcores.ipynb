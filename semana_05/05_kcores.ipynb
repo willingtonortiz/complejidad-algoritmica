{
 "cells": [
  {
   "cell_type": "markdown",
   "metadata": {},
   "source": [
    "# K-Cores"
   ]
  },
  {
   "cell_type": "code",
   "execution_count": 4,
   "metadata": {},
   "outputs": [],
   "source": [
    "def kcore(G, k):\n",
    "    n = len(G)\n",
    "    removed = [False]*n\n",
    "    \n",
    "    def removeVertex(u):\n",
    "        removed[u] = True\n",
    "        for v in G[u]:\n",
    "            if not removed[v]:\n",
    "                G[v].remove(u)\n",
    "                if len(G[v]) < k:\n",
    "                    removeVertex(v)\n",
    "        G[u] = []\n",
    "        \n",
    "    for u in range(n):\n",
    "        if not removed[u] and len(G[u]) < k:\n",
    "            removeVertex(u)\n",
    "        \n",
    "    c = 0\n",
    "    for e in removed:\n",
    "        c += 1 if e else 0\n",
    "\n",
    "    return G, c"
   ]
  },
  {
   "cell_type": "code",
   "execution_count": 12,
   "metadata": {},
   "outputs": [
    {
     "name": "stdout",
     "output_type": "stream",
     "text": [
      "[[1, 2], [0, 2, 5], [0, 1, 3, 4, 5, 6], [2, 4, 6, 7], [2, 3, 6, 7], [1, 2, 6, 8], [2, 3, 4, 5, 7, 8], [3, 4, 6], [5, 6]]\n"
     ]
    }
   ],
   "source": [
    "with open('kcores.in') as f:\n",
    "    G = [[int(e) for e in line.strip().split(' ')] for line in f]\n",
    "print(G)"
   ]
  },
  {
   "cell_type": "code",
   "execution_count": 13,
   "metadata": {},
   "outputs": [
    {
     "data": {
      "text/plain": [
       "([[],\n",
       "  [],\n",
       "  [3, 4, 6],\n",
       "  [2, 4, 6, 7],\n",
       "  [2, 3, 6, 7],\n",
       "  [],\n",
       "  [2, 3, 4, 7],\n",
       "  [3, 4, 6],\n",
       "  []],\n",
       " 4)"
      ]
     },
     "execution_count": 13,
     "metadata": {},
     "output_type": "execute_result"
    }
   ],
   "source": [
    "kcore(G, 3)"
   ]
  },
  {
   "cell_type": "code",
   "execution_count": null,
   "metadata": {},
   "outputs": [],
   "source": []
  }
 ],
 "metadata": {
  "kernelspec": {
   "display_name": "Python 3",
   "language": "python",
   "name": "python3"
  },
  "language_info": {
   "codemirror_mode": {
    "name": "ipython",
    "version": 3
   },
   "file_extension": ".py",
   "mimetype": "text/x-python",
   "name": "python",
   "nbconvert_exporter": "python",
   "pygments_lexer": "ipython3",
   "version": "3.7.1"
  }
 },
 "nbformat": 4,
 "nbformat_minor": 2
}
