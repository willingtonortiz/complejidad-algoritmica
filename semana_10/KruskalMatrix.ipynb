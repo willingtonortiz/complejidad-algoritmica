{
 "cells": [
  {
   "cell_type": "code",
   "execution_count": 29,
   "metadata": {},
   "outputs": [],
   "source": [
    "from queue import PriorityQueue\n",
    "import math"
   ]
  },
  {
   "cell_type": "code",
   "execution_count": 130,
   "metadata": {},
   "outputs": [],
   "source": [
    "class UnionFind:\n",
    "\n",
    "    def __init__(self, size):\n",
    "        self.parent = [i for i in range(size)]\n",
    "        self.rank = [0 for i in range(size)]\n",
    "\n",
    "\n",
    "    def make_set(self, idx):\n",
    "        self.parent[idx] = idx\n",
    "        self.rank[idx] = 0\n",
    "\n",
    "\n",
    "    def find_set(self, u):\n",
    "        if u == self.parent[u]:\n",
    "            return u\n",
    "        self.parent[u] = self.find_set(self.parent[u])\n",
    "        return self.parent[u]\n",
    "\n",
    "\n",
    "    def union_sets(self, fir, sec):\n",
    "        fir = self.find_set(fir)\n",
    "        sec = self.find_set(sec)\n",
    "\n",
    "        if fir != sec:\n",
    "            if self.rank[fir] < self.rank[sec]:\n",
    "                fir, sec = sec, fir\n",
    "\n",
    "            self.parent[sec] = fir\n",
    "\n",
    "            if self.rank[fir] == self.rank[sec]:\n",
    "                self.rank[fir] += 1\n",
    "\n",
    "    def is_same_set(self, u, v):\n",
    "        return self.find_set(u) == self.find_set(v)\n"
   ]
  },
  {
   "cell_type": "code",
   "execution_count": 216,
   "metadata": {},
   "outputs": [],
   "source": [
    "def kruskal(graph):\n",
    "    size = len(graph)\n",
    "    mst_size = size\n",
    "#     print(size)\n",
    "    tree = [-1] * size\n",
    "    edges = PriorityQueue()\n",
    "\n",
    "    for u in range(size):\n",
    "        for v in range(size):\n",
    "            if graph[u][v] != 0:\n",
    "                edges.put((graph[u][v], u, v))\n",
    "    \n",
    "    dsu = UnionFind(size)\n",
    "\n",
    "    while mst_size > 1:\n",
    "        _, u, v = edges.get()\n",
    "\n",
    "        if not dsu.is_same_set(u, v):\n",
    "            dsu.union_sets(u, v)\n",
    "            tree[u] = v\n",
    "            mst_size -= 1\n",
    "\n",
    "    for i in range(size):\n",
    "        if tree[i] >= 0:\n",
    "            a = tree[i] if tree[i] < i else i\n",
    "            b = tree[i] if tree[i] > i else i\n",
    "\n",
    "            print(\"%c - %c %d\"%(chr(a + 65), chr(b + 65), graph[a][b]))\n",
    "    \n",
    "    print(tree)\n",
    "    return tree\n",
    "\n"
   ]
  },
  {
   "cell_type": "code",
   "execution_count": 217,
   "metadata": {},
   "outputs": [
    {
     "name": "stdout",
     "output_type": "stream",
     "text": [
      "A - F 7\n",
      "B - D 3\n",
      "C - E 6\n",
      "D - F 4\n",
      "E - F 5\n",
      "[5, 3, 4, 5, 5, -1]\n"
     ]
    }
   ],
   "source": [
    "graph = [\n",
    "    [0, 8, 12, 0, 0, 7],\n",
    "    [8, 0, 0, 3, 0, 0],\n",
    "    [12, 0, 0, 0, 6, 0],\n",
    "    [0, 3, 0, 0, 0, 4],\n",
    "    [0, 0, 6, 0, 0, 5],\n",
    "    [7, 0, 0, 4, 5, 0]\n",
    "]\n",
    "\n",
    "tree = kruskal(graph)"
   ]
  },
  {
   "cell_type": "code",
   "execution_count": null,
   "metadata": {},
   "outputs": [],
   "source": []
  }
 ],
 "metadata": {
  "kernelspec": {
   "display_name": "Python 3",
   "language": "python",
   "name": "python3"
  },
  "language_info": {
   "codemirror_mode": {
    "name": "ipython",
    "version": 3
   },
   "file_extension": ".py",
   "mimetype": "text/x-python",
   "name": "python",
   "nbconvert_exporter": "python",
   "pygments_lexer": "ipython3",
   "version": "3.7.4"
  }
 },
 "nbformat": 4,
 "nbformat_minor": 4
}
