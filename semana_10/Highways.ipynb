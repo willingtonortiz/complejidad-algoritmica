{
 "cells": [
  {
   "cell_type": "code",
   "execution_count": 3,
   "metadata": {},
   "outputs": [],
   "source": [
    "from queue import PriorityQueue\n",
    "import math"
   ]
  },
  {
   "cell_type": "code",
   "execution_count": 6,
   "metadata": {},
   "outputs": [],
   "source": [
    "class UnionFind:\n",
    "\n",
    "    def __init__(self, size):\n",
    "        self.parent = [i for i in range(size)]\n",
    "        self.rank = [0 for i in range(size)]\n",
    "\n",
    "\n",
    "    def make_set(self, idx):\n",
    "        self.parent[idx] = idx\n",
    "        self.rank[idx] = 0\n",
    "\n",
    "\n",
    "    def find_set(self, u):\n",
    "        if u == self.parent[u]:\n",
    "            return u\n",
    "        self.parent[u] = self.find_set(self.parent[u])\n",
    "        return self.parent[u]\n",
    "\n",
    "\n",
    "    def union_sets(self, fir, sec):\n",
    "        fir = self.find_set(fir)\n",
    "        sec = self.find_set(sec)\n",
    "\n",
    "        if fir != sec:\n",
    "            if self.rank[fir] < self.rank[sec]:\n",
    "                fir, sec = sec, fir\n",
    "\n",
    "            self.parent[sec] = fir\n",
    "\n",
    "            if self.rank[fir] == self.rank[sec]:\n",
    "                self.rank[fir] += 1\n",
    "\n",
    "    def is_same_set(self, u, v):\n",
    "        return self.find_set(u) == self.find_set(v)\n"
   ]
  },
  {
   "cell_type": "code",
   "execution_count": 7,
   "metadata": {},
   "outputs": [],
   "source": [
    "def kruskal(graph):\n",
    "    size = len(graph)\n",
    "    mst_size = size\n",
    "#     print(size)\n",
    "    tree = [-1] * size\n",
    "    edges = PriorityQueue()\n",
    "\n",
    "    for u in range(size):\n",
    "        for v in range(size):\n",
    "            if graph[u][v] != 0:\n",
    "                edges.put((graph[u][v], u, v))\n",
    "    \n",
    "    dsu = UnionFind(size)\n",
    "\n",
    "    while mst_size > 1:\n",
    "        _, u, v = edges.get()\n",
    "\n",
    "        if not dsu.is_same_set(u, v):\n",
    "            dsu.union_sets(u, v)\n",
    "            tree[u] = v\n",
    "            mst_size -= 1\n",
    "\n",
    "    for i in range(size):\n",
    "        if tree[i] >= 0:\n",
    "            a = tree[i] if tree[i] < i else i\n",
    "            b = tree[i] if tree[i] > i else i\n",
    "\n",
    "            print(\"%c - %c %d\"%(chr(a + 65), chr(b + 65), graph[a][b]))\n",
    "    \n",
    "    print(tree)\n",
    "    return tree\n",
    "\n"
   ]
  },
  {
   "cell_type": "code",
   "execution_count": 11,
   "metadata": {},
   "outputs": [
    {
     "name": "stdout",
     "output_type": "stream",
     "text": [
      "[(26, 1), (13, 2), (9, 3), (32, 4), (2, 5), (25, 6), (9, 7), (20, 8)]\n",
      "[(13, 2), (41, 3), (26, 4), (16, 5), (29, 6), (5, 7), (34, 8)]\n",
      "[(10, 3), (5, 4), (13, 5), (4, 6), (4, 7), (5, 8)]\n",
      "[(17, 4), (17, 5), (10, 6), (18, 7), (5, 8)]\n",
      "[(34, 5), (1, 6), (17, 7), (4, 8)]\n",
      "[(29, 6), (5, 7), (26, 8)]\n",
      "[(16, 7), (1, 8)]\n",
      "[(17, 8)]\n",
      "[]\n"
     ]
    }
   ],
   "source": [
    "towns = [\n",
    "    (1, 5),\n",
    "    (0, 0),\n",
    "    (3, 2),\n",
    "    (4, 5),\n",
    "    (5, 1),\n",
    "    (0, 4),\n",
    "    (5, 2),\n",
    "    (1, 2),\n",
    "    (5, 3)\n",
    "]\n",
    "\n",
    "size = len(towns)\n",
    "graph = [[] for i in range(size)]\n",
    "\n",
    "for i in range(size):\n",
    "    for j in range(i + 1, size):\n",
    "        a = towns[i]\n",
    "        b = towns[j]\n",
    "        dist = (a[0] - b[0]) ** 2 + (a[1] - b[1]) ** 2\n",
    "        \n",
    "        graph[i].append((dist, j))\n",
    "        \n",
    "\n",
    "for row in graph:\n",
    "    print(row)\n",
    "\n",
    "# 3\n",
    "# 1 3\n",
    "# 9 7\n",
    "# 1 2"
   ]
  }
 ],
 "metadata": {
  "kernelspec": {
   "display_name": "Python 3",
   "language": "python",
   "name": "python3"
  },
  "language_info": {
   "codemirror_mode": {
    "name": "ipython",
    "version": 3
   },
   "file_extension": ".py",
   "mimetype": "text/x-python",
   "name": "python",
   "nbconvert_exporter": "python",
   "pygments_lexer": "ipython3",
   "version": "3.7.4"
  }
 },
 "nbformat": 4,
 "nbformat_minor": 4
}
