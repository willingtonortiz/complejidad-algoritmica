{
 "cells": [
  {
   "cell_type": "code",
   "execution_count": 16,
   "metadata": {},
   "outputs": [],
   "source": [
    "from queue import PriorityQueue\n",
    "import math"
   ]
  },
  {
   "cell_type": "code",
   "execution_count": 27,
   "metadata": {},
   "outputs": [],
   "source": [
    "# (peso, nodo)\n",
    "\n",
    "def prim(graph):\n",
    "    size = len(graph)\n",
    "    visited = [False] * size\n",
    "    weight = [math.inf] * size\n",
    "    tree = [-1] * size\n",
    "    \n",
    "    queue = PriorityQueue()\n",
    "    \n",
    "    queue.put((0, 0))\n",
    "    \n",
    "    while not queue.empty():\n",
    "        _, u = queue.get()\n",
    "        \n",
    "        if visited[u]: continue\n",
    "        \n",
    "        visited[u] = True\n",
    "        \n",
    "        for v in range(size):\n",
    "            if graph[u][v] != 0 and not visited[v] and graph[u][v] < weight[v]:\n",
    "                weight[v] = graph[u][v]\n",
    "                tree[v] = u\n",
    "                queue.put((graph[u][v], v))\n",
    "    \n",
    "    print(tree)\n",
    "    \n",
    "    for i in range(size):\n",
    "        if tree[i] >= 0:\n",
    "            a = tree[i] if tree[i] < i else i\n",
    "            b = tree[i] if tree[i] > i else i\n",
    "\n",
    "            print(\"%c - %c %d\"%(chr(a + 65), chr(b + 65), graph[a][b]))\n",
    "    \n",
    "    return tree\n",
    "                "
   ]
  },
  {
   "cell_type": "code",
   "execution_count": 28,
   "metadata": {},
   "outputs": [
    {
     "name": "stdout",
     "output_type": "stream",
     "text": [
      "[-1, 3, 4, 5, 5, 0]\n",
      "B - D 3\n",
      "C - E 6\n",
      "D - F 4\n",
      "E - F 5\n",
      "A - F 7\n"
     ]
    }
   ],
   "source": [
    "graph = [\n",
    "    [0, 8, 12, 0, 0, 7],\n",
    "    [8, 0, 0, 3, 0, 0],\n",
    "    [12, 0, 0, 0, 6, 0],\n",
    "    [0, 3, 0, 0, 0, 4],\n",
    "    [0, 0, 6, 0, 0, 5],\n",
    "    [7, 0, 0, 4, 5, 0]\n",
    "]\n",
    "\n",
    "tree = prim(graph)\n"
   ]
  },
  {
   "cell_type": "code",
   "execution_count": 11,
   "metadata": {},
   "outputs": [
    {
     "name": "stdout",
     "output_type": "stream",
     "text": [
      "[['asd'], [], [], [], []]\n"
     ]
    }
   ],
   "source": [
    "def generate_list(graph):\n",
    "    size = len(graph)\n",
    "    result = [[] for _ in range(size)]\n",
    "    print(result)\n",
    "\n",
    "generate_list([1,2,3,4,5])"
   ]
  }
 ],
 "metadata": {
  "kernelspec": {
   "display_name": "Python 3",
   "language": "python",
   "name": "python3"
  },
  "language_info": {
   "codemirror_mode": {
    "name": "ipython",
    "version": 3
   },
   "file_extension": ".py",
   "mimetype": "text/x-python",
   "name": "python",
   "nbconvert_exporter": "python",
   "pygments_lexer": "ipython3",
   "version": "3.7.4"
  }
 },
 "nbformat": 4,
 "nbformat_minor": 4
}
