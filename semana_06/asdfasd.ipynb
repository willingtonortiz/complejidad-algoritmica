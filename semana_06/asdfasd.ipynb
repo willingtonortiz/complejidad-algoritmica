{
 "cells": [
  {
   "cell_type": "markdown",
   "metadata": {},
   "source": [
    "# Kosaraju (strongly connected componentes)"
   ]
  },
  {
   "cell_type": "code",
   "execution_count": 5,
   "metadata": {},
   "outputs": [],
   "source": [
    "import heapq as hq"
   ]
  },
  {
   "cell_type": "code",
   "execution_count": 19,
   "metadata": {},
   "outputs": [],
   "source": [
    "def kosaraju(G):\n",
    "    n = len(G)\n",
    "    Grev = [[] for i in range(n)]\n",
    "    \n",
    "    \"\"\" 1 \"\"\" \n",
    "    for u in range(n):\n",
    "        for v in G[u]:\n",
    "            Grev[v].append(u)\n",
    "            \n",
    "    \"\"\" 2 \"\"\"\n",
    "    d = [None]*n\n",
    "    f = []\n",
    "    cont = [0]\n",
    "     \n",
    "    def dfs(u):\n",
    "        if d[u] == None:\n",
    "            cont[0] += 1\n",
    "            d[u] = cont[0]\n",
    "            for v in Grev[u]:\n",
    "                if d[v] == None:\n",
    "                    dfs(v)\n",
    "                    \n",
    "            cont[0] += 1\n",
    "            hq.heappush(f, (-cont[0], u))\n",
    "            \n",
    "    for u in range(n):\n",
    "        dfs(u)\n",
    "    \n",
    "    \"\"\" 3 \"\"\"\n",
    "    visited = [False]*n\n",
    "    def dfs2(u, res):\n",
    "        visited[u] = True\n",
    "        for v in G[u]:\n",
    "            if not visited[v]:\n",
    "                dfs2(v, res)\n",
    "        res.append(u)\n",
    "    \n",
    "    scc = []\n",
    "    while len(f) > 0:\n",
    "        _, u = hq.heappop(f)\n",
    "        if not visited[u]:\n",
    "            cc = []\n",
    "            dfs2(u, cc)\n",
    "            scc.append(cc)\n",
    "            \n",
    "    return scc"
   ]
  },
  {
   "cell_type": "code",
   "execution_count": 20,
   "metadata": {},
   "outputs": [],
   "source": [
    "G = [[3], [7], [5], [6], [1], [8], [0], [4, 5], [2, 6]]"
   ]
  },
  {
   "cell_type": "code",
   "execution_count": 21,
   "metadata": {},
   "outputs": [
    {
     "data": {
      "text/plain": [
       "[[6, 3, 0], [5, 2, 8], [1, 4, 7]]"
      ]
     },
     "execution_count": 21,
     "metadata": {},
     "output_type": "execute_result"
    }
   ],
   "source": [
    "kosaraju(G)"
   ]
  },
  {
   "cell_type": "code",
   "execution_count": null,
   "metadata": {},
   "outputs": [],
   "source": []
  }
 ],
 "metadata": {
  "kernelspec": {
   "display_name": "Python 3",
   "language": "python",
   "name": "python3"
  },
  "language_info": {
   "codemirror_mode": {
    "name": "ipython",
    "version": 3
   },
   "file_extension": ".py",
   "mimetype": "text/x-python",
   "name": "python",
   "nbconvert_exporter": "python",
   "pygments_lexer": "ipython3",
   "version": "3.7.1"
  }
 },
 "nbformat": 4,
 "nbformat_minor": 2
}
