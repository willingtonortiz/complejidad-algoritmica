{
 "cells": [
  {
   "cell_type": "code",
   "execution_count": 4,
   "metadata": {},
   "outputs": [
    {
     "name": "stdout",
     "output_type": "stream",
     "text": [
      "[83, 97, 32, 73, 57, 87, 92, 85, 87, 26]\n"
     ]
    }
   ],
   "source": [
    "import random as rnd \n",
    " \n",
    "def generar(n): \n",
    "     arr = [] \n",
    "     for i in range(n): \n",
    "         arr.append(rnd.randint(1,100)) \n",
    "     return arr \n",
    " \n",
    "print(generar(10))"
   ]
  },
  {
   "cell_type": "code",
   "execution_count": 5,
   "metadata": {},
   "outputs": [
    {
     "name": "stdout",
     "output_type": "stream",
     "text": [
      "[4, 21, 2, 7, 92, 36, 81, 7, 84, 87]\n"
     ]
    }
   ],
   "source": [
    "import random as rnd \n",
    " \n",
    "def generar2(n): \n",
    "     arr = [0]*n \n",
    "     for i in range(n): \n",
    "         arr[i] = (rnd.randint(1,100)) \n",
    "     return arr \n",
    " \n",
    "print(generar2(10))"
   ]
  },
  {
   "cell_type": "code",
   "execution_count": 7,
   "metadata": {},
   "outputs": [
    {
     "name": "stdout",
     "output_type": "stream",
     "text": [
      "[97, 48, 94, 53, 47, 41, 25, 35, 81, 2]\n"
     ]
    }
   ],
   "source": [
    "def generar3(n): \n",
    " return [rnd.randint(1,100) for _ in range(n)] \n",
    " \n",
    "var = generar(10) \n",
    "print(var)"
   ]
  },
  {
   "cell_type": "code",
   "execution_count": 8,
   "metadata": {},
   "outputs": [
    {
     "name": "stdout",
     "output_type": "stream",
     "text": [
      "[33, 31, 52, 4, 32, 6, 47, 67, 26, 81]\n"
     ]
    }
   ],
   "source": [
    "print([rnd.randint(1,100) for _ in range(10)])"
   ]
  },
  {
   "cell_type": "code",
   "execution_count": 9,
   "metadata": {},
   "outputs": [
    {
     "name": "stdout",
     "output_type": "stream",
     "text": [
      "8\n",
      "10\n",
      "5\n",
      "9\n"
     ]
    }
   ],
   "source": [
    "def mostrar(arr): \n",
    "    for n in arr: \n",
    "        print(n) \n",
    " \n",
    "var = [8, 10, 5, 9] \n",
    "mostrar(var)"
   ]
  },
  {
   "cell_type": "code",
   "execution_count": 2,
   "metadata": {},
   "outputs": [
    {
     "name": "stdout",
     "output_type": "stream",
     "text": [
      "El elemento en pos 1: 8\n",
      "El elemento en pos 2: 10\n",
      "El elemento en pos 3: 5\n",
      "El elemento en pos 4: 9\n"
     ]
    }
   ],
   "source": [
    "def mostrar2(arr): \n",
    "    n = len(arr) \n",
    "    for i in range(0,n): \n",
    "        print(\"El elemento en pos %d: %d\"%(i+1,arr[i])) \n",
    " \n",
    "var = [8, 10, 5, 9] \n",
    "mostrar2(var)"
   ]
  },
  {
   "cell_type": "code",
   "execution_count": 4,
   "metadata": {},
   "outputs": [
    {
     "name": "stdin",
     "output_type": "stream",
     "text": [
      "Ingrese termino de grado 0:  10\n",
      "Ingrese termino de grado 1:  10\n",
      "Ingrese termino de grado 2:  10\n",
      "Ingrese termino de grado 3:  10\n"
     ]
    },
    {
     "name": "stdout",
     "output_type": "stream",
     "text": [
      "El resultado es: 850\n"
     ]
    }
   ],
   "source": [
    "import math\n",
    "\n",
    "def polynome(n):\n",
    "    pol = []\n",
    "    for i in range(n+1):\n",
    "        line = input(\"Ingrese termino de grado %d: \"%(i))\n",
    "        pol.append(line)\n",
    "    return pol\n",
    "\n",
    "def p(x, n):\n",
    "    pol = polynome(n)\n",
    "    s = 0\n",
    "    for j in range(n + 1, 0, -1):\n",
    "        s += ((math.pow(x, j - 1)) * int(pol[j - 1]))\n",
    "    return s\n",
    "\n",
    "print(\"El resultado es: %d\"%(p(4,3)))"
   ]
  },
  {
   "cell_type": "code",
   "execution_count": null,
   "metadata": {},
   "outputs": [],
   "source": []
  }
 ],
 "metadata": {
  "kernelspec": {
   "display_name": "Python 3",
   "language": "python",
   "name": "python3"
  },
  "language_info": {
   "codemirror_mode": {
    "name": "ipython",
    "version": 3
   },
   "file_extension": ".py",
   "mimetype": "text/x-python",
   "name": "python",
   "nbconvert_exporter": "python",
   "pygments_lexer": "ipython3",
   "version": "3.7.4"
  }
 },
 "nbformat": 4,
 "nbformat_minor": 4
}
